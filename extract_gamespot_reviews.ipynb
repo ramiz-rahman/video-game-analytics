{
 "cells": [
  {
   "cell_type": "code",
   "execution_count": 1,
   "metadata": {},
   "outputs": [],
   "source": [
    "import requests \n",
    "from bs4 import BeautifulSoup\n",
    "import re\n",
    "import pandas as pd"
   ]
  },
  {
   "cell_type": "markdown",
   "metadata": {},
   "source": [
    "## Extract Review Scores "
   ]
  },
  {
   "cell_type": "code",
   "execution_count": 3,
   "metadata": {},
   "outputs": [],
   "source": [
    "# Fetch a single page of reviews from Gamespot \n",
    "def fetch_gamespot_review_page(page_num):\n",
    "    '''\n",
    "    Fetch a page of reviews from gamespot.com \n",
    "    and return the page as an HTML parse tree. \n",
    "    '''\n",
    "    url = f'https://www.gamespot.com/games/reviews/?page={page_num}'\n",
    "    r = requests.get(url)\n",
    "    page = BeautifulSoup(r.text, 'lxml')\n",
    "    return page\n",
    "    "
   ]
  },
  {
   "cell_type": "markdown",
   "metadata": {},
   "source": [
    "![Pages and Review Card](./ss_gamespot_pages.png)"
   ]
  },
  {
   "cell_type": "code",
   "execution_count": 4,
   "metadata": {},
   "outputs": [],
   "source": [
    "# Fetch all pages of reviews from Gamespot \n",
    "def fetch_gamespot_reviews(progress=False, start=1, stop=729): \n",
    "    '''\n",
    "    Fetch pages of reviews from gamespot.com and\n",
    "    return a collection of pages as HTML parse trees. \n",
    "    '''\n",
    "    pages = [] \n",
    "    for i in range(start, stop): \n",
    "        page = fetch_gamespot_review_page(i)\n",
    "        pages.append(page)\n",
    "        if progress:\n",
    "            print(f'Downloading page {i} of {stop} ....... {round(i/stop*100)}% complete')\n",
    "    return pages"
   ]
  },
  {
   "cell_type": "markdown",
   "metadata": {},
   "source": [
    "Read the [HTML Structure](./review_card.html) of the review card to create a parser that will extract the required information. "
   ]
  },
  {
   "cell_type": "code",
   "execution_count": 5,
   "metadata": {},
   "outputs": [],
   "source": [
    "def extract_gamespot_critic_score_and_text(card):\n",
    "    '''\n",
    "    Extracts the critic score and text from the review card\n",
    "    if they exist. \n",
    "    '''\n",
    "    review = card.select('.card-review')[0]\n",
    "    score, text = None, None\n",
    "    if review.find(class_='review-ring-score__score'):\n",
    "        score = review.find(class_='review-ring-score__score').text\n",
    "    if review.find(class_='review-ring-score__text'):\n",
    "        text = review.find(class_='review-ring-score__text').text\n",
    "    return (score, text)\n"
   ]
  },
  {
   "cell_type": "code",
   "execution_count": 6,
   "metadata": {},
   "outputs": [],
   "source": [
    "## Extract a single review from a review card on Gamespot \n",
    "def extract_gamespot_review(card):\n",
    "    '''\n",
    "    Extract a single review card into a Python dictionary \n",
    "    '''\n",
    "    review = {}\n",
    "\n",
    "    review['title'] = card.h4.text\n",
    "    review['platform'] = card.span.text\n",
    "    review['review_date'] = card.time['datetime']\n",
    "\n",
    "    # Critic Score may or may not exist \n",
    "    review['critic_score'], review['critic_score_text'] =(\n",
    "        extract_gamespot_critic_score_and_text(card))\n",
    "\n",
    "    # URL Of Review\n",
    "    review['url'] =  card.a['href'] \n",
    "\n",
    "    # Metadata \n",
    "    review['comments'] = card.select('.card-metadata span')[0].text\n",
    "    review['upvotes'] = card.select('.card-metadata span')[1].text\n",
    "    review['img'] = card.img['src']\n",
    "\n",
    "    return review"
   ]
  },
  {
   "cell_type": "code",
   "execution_count": 7,
   "metadata": {},
   "outputs": [],
   "source": [
    "# Extract all reviews in a page into a list of review dicts \n",
    "def extract_gamespot_reviews(page, reviews): \n",
    "    for card in page.select('.editorial .card-item'): \n",
    "        review = extract_gamespot_review(card)\n",
    "        reviews.append(review)\n",
    "    return reviews"
   ]
  },
  {
   "cell_type": "markdown",
   "metadata": {},
   "source": [
    "### Download Critic Review Data"
   ]
  },
  {
   "cell_type": "code",
   "execution_count": 8,
   "metadata": {},
   "outputs": [],
   "source": [
    "# pages = fetch_gamespot_reviews(progress=True)"
   ]
  },
  {
   "cell_type": "markdown",
   "metadata": {},
   "source": [
    "### Extract Review Data from HTML Parse Trees "
   ]
  },
  {
   "cell_type": "code",
   "execution_count": 9,
   "metadata": {},
   "outputs": [],
   "source": [
    "# len(pages)"
   ]
  },
  {
   "cell_type": "code",
   "execution_count": 10,
   "metadata": {},
   "outputs": [],
   "source": [
    "# reviews = []\n",
    "# for page in pages: \n",
    "#     extract_gamespot_reviews(page, reviews)"
   ]
  },
  {
   "cell_type": "code",
   "execution_count": 11,
   "metadata": {},
   "outputs": [],
   "source": [
    "# len(reviews)"
   ]
  },
  {
   "cell_type": "markdown",
   "metadata": {},
   "source": [
    "### Export Raw File"
   ]
  },
  {
   "cell_type": "code",
   "execution_count": 12,
   "metadata": {},
   "outputs": [],
   "source": [
    "# df = pd.DataFrame(reviews)"
   ]
  },
  {
   "cell_type": "code",
   "execution_count": 13,
   "metadata": {},
   "outputs": [],
   "source": [
    "# df.head()"
   ]
  },
  {
   "cell_type": "code",
   "execution_count": 14,
   "metadata": {},
   "outputs": [],
   "source": [
    "# df.info()"
   ]
  },
  {
   "cell_type": "code",
   "execution_count": 15,
   "metadata": {},
   "outputs": [],
   "source": [
    "# df.to_csv('gamespot_reviews_raw.csv', index=False)"
   ]
  },
  {
   "cell_type": "markdown",
   "metadata": {},
   "source": [
    "### Process & Clean Raw Data"
   ]
  },
  {
   "cell_type": "code",
   "execution_count": 118,
   "metadata": {},
   "outputs": [],
   "source": [
    "df = pd.read_csv('gamespot_reviews_raw.csv')"
   ]
  },
  {
   "cell_type": "code",
   "execution_count": 119,
   "metadata": {},
   "outputs": [
    {
     "data": {
      "text/html": [
       "<div>\n",
       "<style scoped>\n",
       "    .dataframe tbody tr th:only-of-type {\n",
       "        vertical-align: middle;\n",
       "    }\n",
       "\n",
       "    .dataframe tbody tr th {\n",
       "        vertical-align: top;\n",
       "    }\n",
       "\n",
       "    .dataframe thead th {\n",
       "        text-align: right;\n",
       "    }\n",
       "</style>\n",
       "<table border=\"1\" class=\"dataframe\">\n",
       "  <thead>\n",
       "    <tr style=\"text-align: right;\">\n",
       "      <th></th>\n",
       "      <th>title</th>\n",
       "      <th>platform</th>\n",
       "      <th>review_date</th>\n",
       "      <th>critic_score</th>\n",
       "      <th>critic_score_text</th>\n",
       "      <th>url</th>\n",
       "      <th>comments</th>\n",
       "      <th>upvotes</th>\n",
       "      <th>img</th>\n",
       "    </tr>\n",
       "  </thead>\n",
       "  <tbody>\n",
       "    <tr>\n",
       "      <th>0</th>\n",
       "      <td>Soundfall Review - Not Quite My Tempo</td>\n",
       "      <td>PC</td>\n",
       "      <td>Friday, May 27, 2022 3:39pm</td>\n",
       "      <td>5.0</td>\n",
       "      <td>Mediocre</td>\n",
       "      <td>/reviews/soundfall-review-not-quite-my-tempo/1...</td>\n",
       "      <td>0</td>\n",
       "      <td>2</td>\n",
       "      <td>https://www.gamespot.com/a/uploads/screen_peti...</td>\n",
       "    </tr>\n",
       "    <tr>\n",
       "      <th>1</th>\n",
       "      <td>Apex Legends Mobile Review - Pocket-Sized Royale</td>\n",
       "      <td>AND</td>\n",
       "      <td>Thursday, May 26, 2022 7:08pm</td>\n",
       "      <td>7.0</td>\n",
       "      <td>Good</td>\n",
       "      <td>/reviews/apex-legends-mobile-review-pocket-siz...</td>\n",
       "      <td>3</td>\n",
       "      <td>4</td>\n",
       "      <td>https://www.gamespot.com/a/uploads/screen_peti...</td>\n",
       "    </tr>\n",
       "    <tr>\n",
       "      <th>2</th>\n",
       "      <td>Hatsune Miku Project Diva Megamix+ Review - Th...</td>\n",
       "      <td>PC</td>\n",
       "      <td>Thursday, May 26, 2022 1:33pm</td>\n",
       "      <td>8.0</td>\n",
       "      <td>Great</td>\n",
       "      <td>/reviews/hatsune-miku-project-diva-megamix-rev...</td>\n",
       "      <td>1</td>\n",
       "      <td>4</td>\n",
       "      <td>https://www.gamespot.com/a/uploads/screen_peti...</td>\n",
       "    </tr>\n",
       "    <tr>\n",
       "      <th>3</th>\n",
       "      <td>Sniper Elite 5 Review - Longer-Range</td>\n",
       "      <td>PC</td>\n",
       "      <td>Thursday, May 26, 2022 8:00am</td>\n",
       "      <td>8.0</td>\n",
       "      <td>Great</td>\n",
       "      <td>/reviews/sniper-elite-5-review-longer-range/19...</td>\n",
       "      <td>26</td>\n",
       "      <td>7</td>\n",
       "      <td>https://www.gamespot.com/a/uploads/screen_peti...</td>\n",
       "    </tr>\n",
       "    <tr>\n",
       "      <th>4</th>\n",
       "      <td>Evil Dead: The Game Review - Somewhat Groovy</td>\n",
       "      <td>XBSX</td>\n",
       "      <td>Friday, May 20, 2022 2:09pm</td>\n",
       "      <td>6.0</td>\n",
       "      <td>Fair</td>\n",
       "      <td>/reviews/evil-dead-the-game-review-somewhat-gr...</td>\n",
       "      <td>32</td>\n",
       "      <td>6</td>\n",
       "      <td>https://www.gamespot.com/a/uploads/screen_peti...</td>\n",
       "    </tr>\n",
       "  </tbody>\n",
       "</table>\n",
       "</div>"
      ],
      "text/plain": [
       "                                               title platform  \\\n",
       "0              Soundfall Review - Not Quite My Tempo       PC   \n",
       "1   Apex Legends Mobile Review - Pocket-Sized Royale      AND   \n",
       "2  Hatsune Miku Project Diva Megamix+ Review - Th...       PC   \n",
       "3               Sniper Elite 5 Review - Longer-Range       PC   \n",
       "4       Evil Dead: The Game Review - Somewhat Groovy     XBSX   \n",
       "\n",
       "                     review_date  critic_score critic_score_text  \\\n",
       "0    Friday, May 27, 2022 3:39pm           5.0          Mediocre   \n",
       "1  Thursday, May 26, 2022 7:08pm           7.0              Good   \n",
       "2  Thursday, May 26, 2022 1:33pm           8.0             Great   \n",
       "3  Thursday, May 26, 2022 8:00am           8.0             Great   \n",
       "4    Friday, May 20, 2022 2:09pm           6.0              Fair   \n",
       "\n",
       "                                                 url  comments  upvotes  \\\n",
       "0  /reviews/soundfall-review-not-quite-my-tempo/1...         0        2   \n",
       "1  /reviews/apex-legends-mobile-review-pocket-siz...         3        4   \n",
       "2  /reviews/hatsune-miku-project-diva-megamix-rev...         1        4   \n",
       "3  /reviews/sniper-elite-5-review-longer-range/19...        26        7   \n",
       "4  /reviews/evil-dead-the-game-review-somewhat-gr...        32        6   \n",
       "\n",
       "                                                 img  \n",
       "0  https://www.gamespot.com/a/uploads/screen_peti...  \n",
       "1  https://www.gamespot.com/a/uploads/screen_peti...  \n",
       "2  https://www.gamespot.com/a/uploads/screen_peti...  \n",
       "3  https://www.gamespot.com/a/uploads/screen_peti...  \n",
       "4  https://www.gamespot.com/a/uploads/screen_peti...  "
      ]
     },
     "execution_count": 119,
     "metadata": {},
     "output_type": "execute_result"
    }
   ],
   "source": [
    "df.head()"
   ]
  },
  {
   "cell_type": "code",
   "execution_count": 120,
   "metadata": {},
   "outputs": [
    {
     "name": "stdout",
     "output_type": "stream",
     "text": [
      "<class 'pandas.core.frame.DataFrame'>\n",
      "RangeIndex: 15235 entries, 0 to 15234\n",
      "Data columns (total 9 columns):\n",
      " #   Column             Non-Null Count  Dtype  \n",
      "---  ------             --------------  -----  \n",
      " 0   title              15235 non-null  object \n",
      " 1   platform           15235 non-null  object \n",
      " 2   review_date        15235 non-null  object \n",
      " 3   critic_score       15234 non-null  float64\n",
      " 4   critic_score_text  15234 non-null  object \n",
      " 5   url                15235 non-null  object \n",
      " 6   comments           15235 non-null  int64  \n",
      " 7   upvotes            15235 non-null  int64  \n",
      " 8   img                15235 non-null  object \n",
      "dtypes: float64(1), int64(2), object(6)\n",
      "memory usage: 1.0+ MB\n"
     ]
    }
   ],
   "source": [
    "df.info()"
   ]
  },
  {
   "cell_type": "markdown",
   "metadata": {},
   "source": [
    "#### Extract Game Title from the Review Title "
   ]
  },
  {
   "cell_type": "markdown",
   "metadata": {},
   "source": [
    "The title that we have in our raw dataset is for the review. As we are trying to build a database of games, we must extract the title of the game into another column. "
   ]
  },
  {
   "cell_type": "code",
   "execution_count": 121,
   "metadata": {},
   "outputs": [],
   "source": [
    "df.rename(columns={'title': 'review_title'}, inplace=True)"
   ]
  },
  {
   "cell_type": "markdown",
   "metadata": {},
   "source": [
    "Luckily, for us, it appears that the title of the game appears before the word review or before a hyphen. Let's use a regular expression to extract the title."
   ]
  },
  {
   "cell_type": "code",
   "execution_count": 122,
   "metadata": {},
   "outputs": [
    {
     "data": {
      "text/html": [
       "<div>\n",
       "<style scoped>\n",
       "    .dataframe tbody tr th:only-of-type {\n",
       "        vertical-align: middle;\n",
       "    }\n",
       "\n",
       "    .dataframe tbody tr th {\n",
       "        vertical-align: top;\n",
       "    }\n",
       "\n",
       "    .dataframe thead th {\n",
       "        text-align: right;\n",
       "    }\n",
       "</style>\n",
       "<table border=\"1\" class=\"dataframe\">\n",
       "  <thead>\n",
       "    <tr style=\"text-align: right;\">\n",
       "      <th></th>\n",
       "      <th>0</th>\n",
       "      <th>1</th>\n",
       "    </tr>\n",
       "  </thead>\n",
       "  <tbody>\n",
       "    <tr>\n",
       "      <th>0</th>\n",
       "      <td>Soundfall</td>\n",
       "      <td>Review</td>\n",
       "    </tr>\n",
       "    <tr>\n",
       "      <th>1</th>\n",
       "      <td>Apex Legends Mobile</td>\n",
       "      <td>Review</td>\n",
       "    </tr>\n",
       "    <tr>\n",
       "      <th>2</th>\n",
       "      <td>Hatsune Miku Project Diva Megamix+</td>\n",
       "      <td>Review</td>\n",
       "    </tr>\n",
       "    <tr>\n",
       "      <th>3</th>\n",
       "      <td>Sniper Elite 5</td>\n",
       "      <td>Review</td>\n",
       "    </tr>\n",
       "    <tr>\n",
       "      <th>4</th>\n",
       "      <td>Evil Dead: The Game</td>\n",
       "      <td>Review</td>\n",
       "    </tr>\n",
       "  </tbody>\n",
       "</table>\n",
       "</div>"
      ],
      "text/plain": [
       "                                     0       1\n",
       "0                           Soundfall   Review\n",
       "1                 Apex Legends Mobile   Review\n",
       "2  Hatsune Miku Project Diva Megamix+   Review\n",
       "3                      Sniper Elite 5   Review\n",
       "4                 Evil Dead: The Game   Review"
      ]
     },
     "execution_count": 122,
     "metadata": {},
     "output_type": "execute_result"
    }
   ],
   "source": [
    "regex = '(.+?)((?i)Review|-)'\n",
    "df['review_title'].str.extract(regex).head()"
   ]
  },
  {
   "cell_type": "markdown",
   "metadata": {},
   "source": [
    "That seems to have worked, but we need to look out for cases where our regular expression failed."
   ]
  },
  {
   "cell_type": "code",
   "execution_count": 123,
   "metadata": {},
   "outputs": [
    {
     "data": {
      "text/plain": [
       "0    1\n",
       "1    1\n",
       "dtype: int64"
      ]
     },
     "execution_count": 123,
     "metadata": {},
     "output_type": "execute_result"
    }
   ],
   "source": [
    "df['review_title'].str.extract(regex).isnull().sum()"
   ]
  },
  {
   "cell_type": "markdown",
   "metadata": {},
   "source": [
    "It failed for one instance. Let's check that game out. "
   ]
  },
  {
   "cell_type": "code",
   "execution_count": 124,
   "metadata": {},
   "outputs": [
    {
     "data": {
      "text/html": [
       "<div>\n",
       "<style scoped>\n",
       "    .dataframe tbody tr th:only-of-type {\n",
       "        vertical-align: middle;\n",
       "    }\n",
       "\n",
       "    .dataframe tbody tr th {\n",
       "        vertical-align: top;\n",
       "    }\n",
       "\n",
       "    .dataframe thead th {\n",
       "        text-align: right;\n",
       "    }\n",
       "</style>\n",
       "<table border=\"1\" class=\"dataframe\">\n",
       "  <thead>\n",
       "    <tr style=\"text-align: right;\">\n",
       "      <th></th>\n",
       "      <th>review_title</th>\n",
       "      <th>platform</th>\n",
       "      <th>review_date</th>\n",
       "      <th>critic_score</th>\n",
       "      <th>critic_score_text</th>\n",
       "      <th>url</th>\n",
       "      <th>comments</th>\n",
       "      <th>upvotes</th>\n",
       "      <th>img</th>\n",
       "    </tr>\n",
       "  </thead>\n",
       "  <tbody>\n",
       "    <tr>\n",
       "      <th>712</th>\n",
       "      <td>Lumines Remastered: Groove Is In The Heart</td>\n",
       "      <td>NS, PS4, XONE, PC</td>\n",
       "      <td>Thursday, Jun 28, 2018 11:56am</td>\n",
       "      <td>8.0</td>\n",
       "      <td>Great</td>\n",
       "      <td>/reviews/lumines-remastered-groove-is-in-the-h...</td>\n",
       "      <td>1</td>\n",
       "      <td>18</td>\n",
       "      <td>https://www.gamespot.com/a/uploads/screen_peti...</td>\n",
       "    </tr>\n",
       "  </tbody>\n",
       "</table>\n",
       "</div>"
      ],
      "text/plain": [
       "                                   review_title           platform  \\\n",
       "712  Lumines Remastered: Groove Is In The Heart  NS, PS4, XONE, PC   \n",
       "\n",
       "                        review_date  critic_score critic_score_text  \\\n",
       "712  Thursday, Jun 28, 2018 11:56am           8.0             Great   \n",
       "\n",
       "                                                   url  comments  upvotes  \\\n",
       "712  /reviews/lumines-remastered-groove-is-in-the-h...         1       18   \n",
       "\n",
       "                                                   img  \n",
       "712  https://www.gamespot.com/a/uploads/screen_peti...  "
      ]
     },
     "execution_count": 124,
     "metadata": {},
     "output_type": "execute_result"
    }
   ],
   "source": [
    "df[df['review_title'].str.extract(regex)[0].isnull()]"
   ]
  },
  {
   "cell_type": "markdown",
   "metadata": {},
   "source": [
    "I manually looked up the game on Gamespot and it's name is 'Lumines Remastered'. We will update the title after building the column. "
   ]
  },
  {
   "cell_type": "code",
   "execution_count": 125,
   "metadata": {},
   "outputs": [
    {
     "data": {
      "text/html": [
       "<div>\n",
       "<style scoped>\n",
       "    .dataframe tbody tr th:only-of-type {\n",
       "        vertical-align: middle;\n",
       "    }\n",
       "\n",
       "    .dataframe tbody tr th {\n",
       "        vertical-align: top;\n",
       "    }\n",
       "\n",
       "    .dataframe thead th {\n",
       "        text-align: right;\n",
       "    }\n",
       "</style>\n",
       "<table border=\"1\" class=\"dataframe\">\n",
       "  <thead>\n",
       "    <tr style=\"text-align: right;\">\n",
       "      <th></th>\n",
       "      <th>review_title</th>\n",
       "      <th>platform</th>\n",
       "      <th>review_date</th>\n",
       "      <th>critic_score</th>\n",
       "      <th>critic_score_text</th>\n",
       "      <th>url</th>\n",
       "      <th>comments</th>\n",
       "      <th>upvotes</th>\n",
       "      <th>img</th>\n",
       "      <th>title</th>\n",
       "    </tr>\n",
       "  </thead>\n",
       "  <tbody>\n",
       "    <tr>\n",
       "      <th>0</th>\n",
       "      <td>Soundfall Review - Not Quite My Tempo</td>\n",
       "      <td>PC</td>\n",
       "      <td>Friday, May 27, 2022 3:39pm</td>\n",
       "      <td>5.0</td>\n",
       "      <td>Mediocre</td>\n",
       "      <td>/reviews/soundfall-review-not-quite-my-tempo/1...</td>\n",
       "      <td>0</td>\n",
       "      <td>2</td>\n",
       "      <td>https://www.gamespot.com/a/uploads/screen_peti...</td>\n",
       "      <td>Soundfall</td>\n",
       "    </tr>\n",
       "    <tr>\n",
       "      <th>1</th>\n",
       "      <td>Apex Legends Mobile Review - Pocket-Sized Royale</td>\n",
       "      <td>AND</td>\n",
       "      <td>Thursday, May 26, 2022 7:08pm</td>\n",
       "      <td>7.0</td>\n",
       "      <td>Good</td>\n",
       "      <td>/reviews/apex-legends-mobile-review-pocket-siz...</td>\n",
       "      <td>3</td>\n",
       "      <td>4</td>\n",
       "      <td>https://www.gamespot.com/a/uploads/screen_peti...</td>\n",
       "      <td>Apex Legends Mobile</td>\n",
       "    </tr>\n",
       "    <tr>\n",
       "      <th>2</th>\n",
       "      <td>Hatsune Miku Project Diva Megamix+ Review - Th...</td>\n",
       "      <td>PC</td>\n",
       "      <td>Thursday, May 26, 2022 1:33pm</td>\n",
       "      <td>8.0</td>\n",
       "      <td>Great</td>\n",
       "      <td>/reviews/hatsune-miku-project-diva-megamix-rev...</td>\n",
       "      <td>1</td>\n",
       "      <td>4</td>\n",
       "      <td>https://www.gamespot.com/a/uploads/screen_peti...</td>\n",
       "      <td>Hatsune Miku Project Diva Megamix+</td>\n",
       "    </tr>\n",
       "    <tr>\n",
       "      <th>3</th>\n",
       "      <td>Sniper Elite 5 Review - Longer-Range</td>\n",
       "      <td>PC</td>\n",
       "      <td>Thursday, May 26, 2022 8:00am</td>\n",
       "      <td>8.0</td>\n",
       "      <td>Great</td>\n",
       "      <td>/reviews/sniper-elite-5-review-longer-range/19...</td>\n",
       "      <td>26</td>\n",
       "      <td>7</td>\n",
       "      <td>https://www.gamespot.com/a/uploads/screen_peti...</td>\n",
       "      <td>Sniper Elite 5</td>\n",
       "    </tr>\n",
       "    <tr>\n",
       "      <th>4</th>\n",
       "      <td>Evil Dead: The Game Review - Somewhat Groovy</td>\n",
       "      <td>XBSX</td>\n",
       "      <td>Friday, May 20, 2022 2:09pm</td>\n",
       "      <td>6.0</td>\n",
       "      <td>Fair</td>\n",
       "      <td>/reviews/evil-dead-the-game-review-somewhat-gr...</td>\n",
       "      <td>32</td>\n",
       "      <td>6</td>\n",
       "      <td>https://www.gamespot.com/a/uploads/screen_peti...</td>\n",
       "      <td>Evil Dead: The Game</td>\n",
       "    </tr>\n",
       "  </tbody>\n",
       "</table>\n",
       "</div>"
      ],
      "text/plain": [
       "                                        review_title platform  \\\n",
       "0              Soundfall Review - Not Quite My Tempo       PC   \n",
       "1   Apex Legends Mobile Review - Pocket-Sized Royale      AND   \n",
       "2  Hatsune Miku Project Diva Megamix+ Review - Th...       PC   \n",
       "3               Sniper Elite 5 Review - Longer-Range       PC   \n",
       "4       Evil Dead: The Game Review - Somewhat Groovy     XBSX   \n",
       "\n",
       "                     review_date  critic_score critic_score_text  \\\n",
       "0    Friday, May 27, 2022 3:39pm           5.0          Mediocre   \n",
       "1  Thursday, May 26, 2022 7:08pm           7.0              Good   \n",
       "2  Thursday, May 26, 2022 1:33pm           8.0             Great   \n",
       "3  Thursday, May 26, 2022 8:00am           8.0             Great   \n",
       "4    Friday, May 20, 2022 2:09pm           6.0              Fair   \n",
       "\n",
       "                                                 url  comments  upvotes  \\\n",
       "0  /reviews/soundfall-review-not-quite-my-tempo/1...         0        2   \n",
       "1  /reviews/apex-legends-mobile-review-pocket-siz...         3        4   \n",
       "2  /reviews/hatsune-miku-project-diva-megamix-rev...         1        4   \n",
       "3  /reviews/sniper-elite-5-review-longer-range/19...        26        7   \n",
       "4  /reviews/evil-dead-the-game-review-somewhat-gr...        32        6   \n",
       "\n",
       "                                                 img  \\\n",
       "0  https://www.gamespot.com/a/uploads/screen_peti...   \n",
       "1  https://www.gamespot.com/a/uploads/screen_peti...   \n",
       "2  https://www.gamespot.com/a/uploads/screen_peti...   \n",
       "3  https://www.gamespot.com/a/uploads/screen_peti...   \n",
       "4  https://www.gamespot.com/a/uploads/screen_peti...   \n",
       "\n",
       "                                title  \n",
       "0                           Soundfall  \n",
       "1                 Apex Legends Mobile  \n",
       "2  Hatsune Miku Project Diva Megamix+  \n",
       "3                      Sniper Elite 5  \n",
       "4                 Evil Dead: The Game  "
      ]
     },
     "execution_count": 125,
     "metadata": {},
     "output_type": "execute_result"
    }
   ],
   "source": [
    "df['title'] = df['review_title'].str.extract(regex)[0].str.strip()\n",
    "\n",
    "df.head()"
   ]
  },
  {
   "cell_type": "code",
   "execution_count": 126,
   "metadata": {},
   "outputs": [],
   "source": [
    "# Correct 'Lumines Remastered: Groove Is In The Heart'\n",
    "df.loc[df['review_title'] == 'Lumines Remastered: Groove Is In The Heart', 'title'] = 'Lumines Remastered'"
   ]
  },
  {
   "cell_type": "code",
   "execution_count": 127,
   "metadata": {},
   "outputs": [
    {
     "data": {
      "text/plain": [
       "10"
      ]
     },
     "execution_count": 127,
     "metadata": {},
     "output_type": "execute_result"
    }
   ],
   "source": [
    "len(df.columns)"
   ]
  },
  {
   "cell_type": "code",
   "execution_count": 128,
   "metadata": {},
   "outputs": [],
   "source": [
    "# Make title the first column and review the last column \n",
    "df = df.iloc[:, [9, 1,2,3,4,5,6,7,8, 0]]"
   ]
  },
  {
   "cell_type": "code",
   "execution_count": 129,
   "metadata": {},
   "outputs": [
    {
     "data": {
      "text/html": [
       "<div>\n",
       "<style scoped>\n",
       "    .dataframe tbody tr th:only-of-type {\n",
       "        vertical-align: middle;\n",
       "    }\n",
       "\n",
       "    .dataframe tbody tr th {\n",
       "        vertical-align: top;\n",
       "    }\n",
       "\n",
       "    .dataframe thead th {\n",
       "        text-align: right;\n",
       "    }\n",
       "</style>\n",
       "<table border=\"1\" class=\"dataframe\">\n",
       "  <thead>\n",
       "    <tr style=\"text-align: right;\">\n",
       "      <th></th>\n",
       "      <th>title</th>\n",
       "      <th>platform</th>\n",
       "      <th>review_date</th>\n",
       "      <th>critic_score</th>\n",
       "      <th>critic_score_text</th>\n",
       "      <th>url</th>\n",
       "      <th>comments</th>\n",
       "      <th>upvotes</th>\n",
       "      <th>img</th>\n",
       "      <th>review_title</th>\n",
       "    </tr>\n",
       "  </thead>\n",
       "  <tbody>\n",
       "    <tr>\n",
       "      <th>0</th>\n",
       "      <td>Soundfall</td>\n",
       "      <td>PC</td>\n",
       "      <td>Friday, May 27, 2022 3:39pm</td>\n",
       "      <td>5.0</td>\n",
       "      <td>Mediocre</td>\n",
       "      <td>/reviews/soundfall-review-not-quite-my-tempo/1...</td>\n",
       "      <td>0</td>\n",
       "      <td>2</td>\n",
       "      <td>https://www.gamespot.com/a/uploads/screen_peti...</td>\n",
       "      <td>Soundfall Review - Not Quite My Tempo</td>\n",
       "    </tr>\n",
       "    <tr>\n",
       "      <th>1</th>\n",
       "      <td>Apex Legends Mobile</td>\n",
       "      <td>AND</td>\n",
       "      <td>Thursday, May 26, 2022 7:08pm</td>\n",
       "      <td>7.0</td>\n",
       "      <td>Good</td>\n",
       "      <td>/reviews/apex-legends-mobile-review-pocket-siz...</td>\n",
       "      <td>3</td>\n",
       "      <td>4</td>\n",
       "      <td>https://www.gamespot.com/a/uploads/screen_peti...</td>\n",
       "      <td>Apex Legends Mobile Review - Pocket-Sized Royale</td>\n",
       "    </tr>\n",
       "  </tbody>\n",
       "</table>\n",
       "</div>"
      ],
      "text/plain": [
       "                 title platform                    review_date  critic_score  \\\n",
       "0            Soundfall       PC    Friday, May 27, 2022 3:39pm           5.0   \n",
       "1  Apex Legends Mobile      AND  Thursday, May 26, 2022 7:08pm           7.0   \n",
       "\n",
       "  critic_score_text                                                url  \\\n",
       "0          Mediocre  /reviews/soundfall-review-not-quite-my-tempo/1...   \n",
       "1              Good  /reviews/apex-legends-mobile-review-pocket-siz...   \n",
       "\n",
       "   comments  upvotes                                                img  \\\n",
       "0         0        2  https://www.gamespot.com/a/uploads/screen_peti...   \n",
       "1         3        4  https://www.gamespot.com/a/uploads/screen_peti...   \n",
       "\n",
       "                                       review_title  \n",
       "0             Soundfall Review - Not Quite My Tempo  \n",
       "1  Apex Legends Mobile Review - Pocket-Sized Royale  "
      ]
     },
     "execution_count": 129,
     "metadata": {},
     "output_type": "execute_result"
    }
   ],
   "source": [
    "df.head(2)"
   ]
  },
  {
   "cell_type": "markdown",
   "metadata": {},
   "source": [
    "#### Convert Review Data to a Datetime Type \n",
    "Let's ensure that the review date is being recognized as a datetime value. "
   ]
  },
  {
   "cell_type": "code",
   "execution_count": 130,
   "metadata": {},
   "outputs": [],
   "source": [
    "df['review_date'] = pd.to_datetime(df['review_date'])"
   ]
  },
  {
   "cell_type": "markdown",
   "metadata": {},
   "source": [
    "#### Attach URL Subdirectory to Base Domain \n",
    "It appears that the url has only captured the subdirectory. Let's convert this into the full URL, as it will be used for further data extraction. "
   ]
  },
  {
   "cell_type": "code",
   "execution_count": 131,
   "metadata": {},
   "outputs": [
    {
     "data": {
      "text/plain": [
       "0    /reviews/soundfall-review-not-quite-my-tempo/1...\n",
       "1    /reviews/apex-legends-mobile-review-pocket-siz...\n",
       "2    /reviews/hatsune-miku-project-diva-megamix-rev...\n",
       "3    /reviews/sniper-elite-5-review-longer-range/19...\n",
       "4    /reviews/evil-dead-the-game-review-somewhat-gr...\n",
       "Name: url, dtype: object"
      ]
     },
     "execution_count": 131,
     "metadata": {},
     "output_type": "execute_result"
    }
   ],
   "source": [
    "df['url'].head()"
   ]
  },
  {
   "cell_type": "code",
   "execution_count": 132,
   "metadata": {},
   "outputs": [
    {
     "data": {
      "text/plain": [
       "0    https://www.gamespot.com/reviews/soundfall-rev...\n",
       "1    https://www.gamespot.com/reviews/apex-legends-...\n",
       "2    https://www.gamespot.com/reviews/hatsune-miku-...\n",
       "3    https://www.gamespot.com/reviews/sniper-elite-...\n",
       "4    https://www.gamespot.com/reviews/evil-dead-the...\n",
       "Name: url, dtype: object"
      ]
     },
     "execution_count": 132,
     "metadata": {},
     "output_type": "execute_result"
    }
   ],
   "source": [
    "base = 'https://www.gamespot.com'\n",
    "base + df['url'].head()"
   ]
  },
  {
   "cell_type": "code",
   "execution_count": 133,
   "metadata": {},
   "outputs": [],
   "source": [
    "df['url'] = base + df['url']"
   ]
  },
  {
   "cell_type": "markdown",
   "metadata": {},
   "source": [
    "### Save Cleaned Dataset"
   ]
  },
  {
   "cell_type": "code",
   "execution_count": 134,
   "metadata": {},
   "outputs": [
    {
     "name": "stdout",
     "output_type": "stream",
     "text": [
      "<class 'pandas.core.frame.DataFrame'>\n",
      "RangeIndex: 15235 entries, 0 to 15234\n",
      "Data columns (total 10 columns):\n",
      " #   Column             Non-Null Count  Dtype         \n",
      "---  ------             --------------  -----         \n",
      " 0   title              15235 non-null  object        \n",
      " 1   platform           15235 non-null  object        \n",
      " 2   review_date        15235 non-null  datetime64[ns]\n",
      " 3   critic_score       15234 non-null  float64       \n",
      " 4   critic_score_text  15234 non-null  object        \n",
      " 5   url                15235 non-null  object        \n",
      " 6   comments           15235 non-null  int64         \n",
      " 7   upvotes            15235 non-null  int64         \n",
      " 8   img                15235 non-null  object        \n",
      " 9   review_title       15235 non-null  object        \n",
      "dtypes: datetime64[ns](1), float64(1), int64(2), object(6)\n",
      "memory usage: 1.2+ MB\n"
     ]
    }
   ],
   "source": [
    "df.info()"
   ]
  },
  {
   "cell_type": "code",
   "execution_count": 136,
   "metadata": {},
   "outputs": [],
   "source": [
    "df.to_csv('gamespot_reviews.csv', index=False)"
   ]
  },
  {
   "cell_type": "markdown",
   "metadata": {},
   "source": [
    "## Extract User Reviews"
   ]
  },
  {
   "cell_type": "code",
   "execution_count": null,
   "metadata": {},
   "outputs": [],
   "source": []
  }
 ],
 "metadata": {
  "interpreter": {
   "hash": "949510482b8eeb0db0de64008f8e13a21a90dd06afd7a8e21dd837eed22f74f3"
  },
  "kernelspec": {
   "display_name": "Python 3.9.12 ('base')",
   "language": "python",
   "name": "python3"
  },
  "language_info": {
   "codemirror_mode": {
    "name": "ipython",
    "version": 3
   },
   "file_extension": ".py",
   "mimetype": "text/x-python",
   "name": "python",
   "nbconvert_exporter": "python",
   "pygments_lexer": "ipython3",
   "version": "3.9.12"
  },
  "orig_nbformat": 4
 },
 "nbformat": 4,
 "nbformat_minor": 2
}
